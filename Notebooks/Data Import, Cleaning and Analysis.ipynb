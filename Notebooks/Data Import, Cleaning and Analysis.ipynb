{
 "cells": [
  {
   "cell_type": "code",
   "execution_count": 9,
   "metadata": {},
   "outputs": [],
   "source": [
    "import pandas as pd\n",
    "import numpy as np\n",
    "import re\n"
   ]
  },
  {
   "cell_type": "code",
   "execution_count": 10,
   "metadata": {},
   "outputs": [
    {
     "data": {
      "text/plain": [
       "(525461, 8)"
      ]
     },
     "metadata": {},
     "output_type": "display_data"
    },
    {
     "data": {
      "text/plain": [
       "(541910, 8)"
      ]
     },
     "metadata": {},
     "output_type": "display_data"
    },
    {
     "data": {
      "text/plain": [
       "(1067371, 8)"
      ]
     },
     "metadata": {},
     "output_type": "display_data"
    }
   ],
   "source": [
    "def import_and_concat(file, sheet_1, sheet_2):\n",
    "\n",
    "    df1 = pd.read_excel(file, sheet_name = sheet_1)\n",
    "    display(df1.shape)\n",
    "    df2 = pd.read_excel(file, sheet_name = sheet_2)\n",
    "    display(df2.shape)\n",
    "    df = pd.concat([df1, df2], axis = 0, ignore_index= True)\n",
    "    display(df.shape)\n",
    "    return df\n",
    "\n",
    "df = import_and_concat('Data/online_retail_II.xlsx', 'Year 2009-2010', 'Year 2010-2011')"
   ]
  },
  {
   "cell_type": "markdown",
   "metadata": {},
   "source": [
    "### Data Cleaning\n",
    "\n",
    "Throughout working with this dataset, several rows appear to be from testing processes, price adjustments, errors and missing data. The following block of code cleans out these rows from the dataset, and saves the cleaned data in the repository. "
   ]
  },
  {
   "cell_type": "code",
   "execution_count": 3,
   "metadata": {},
   "outputs": [],
   "source": [
    "def drop_rows(mask):                           #Establishing a function to drop rows based on a dataframe filter.\n",
    "    df.drop(mask.index, inplace = True)        #There are many rows to drop going forward, so this will eliminate code redundancies.\n",
    "\n",
    "drop_rows(df.loc[(df[\"Description\"] == \"This is a test product.\") | (df.StockCode == \"ADJUST\")])\n",
    "drop_rows(df[df.Description.str.contains(\"wrongly\", na = False)])\n",
    "drop_rows(df.loc[df.StockCode == \"ADJUST\"]) \n",
    "drop_rows(df.loc[df.StockCode == \"B\"])\n",
    "\n",
    "#Correcting country name to match general country naming convention. \n",
    "\n",
    "df[\"Country\"].replace({\"EIRE\": \"Ireland\", \"USA\": \"United States of America\", \"RSA\": \"South Africa\"}, inplace = True)\n",
    "#Correcting a typo in item description.\n",
    "df[\"Description\"].replace({\"PACK OF 72 RETRO SPOT CAKE CASES\": \"PACK OF 72 RETROSPOT CAKE CASES\"}, inplace = True)\n",
    "\n",
    "#Creating a revenue feature.\n",
    "df[\"Revenue\"] = df[\"Quantity\"] * df[\"Price\"]\n",
    "\n",
    "df.to_csv(\"Data/cleaned_total_data\", index = False) "
   ]
  },
  {
   "cell_type": "markdown",
   "metadata": {},
   "source": [
    "### Shipping-related Data\n",
    "\n",
    "The following extracts rows which are not related to products, most of which is shipping-related expenses. "
   ]
  },
  {
   "cell_type": "code",
   "execution_count": 4,
   "metadata": {},
   "outputs": [
    {
     "data": {
      "text/html": [
       "<div>\n",
       "<style scoped>\n",
       "    .dataframe tbody tr th:only-of-type {\n",
       "        vertical-align: middle;\n",
       "    }\n",
       "\n",
       "    .dataframe tbody tr th {\n",
       "        vertical-align: top;\n",
       "    }\n",
       "\n",
       "    .dataframe thead th {\n",
       "        text-align: right;\n",
       "    }\n",
       "</style>\n",
       "<table border=\"1\" class=\"dataframe\">\n",
       "  <thead>\n",
       "    <tr style=\"text-align: right;\">\n",
       "      <th></th>\n",
       "      <th>Invoice</th>\n",
       "      <th>StockCode</th>\n",
       "      <th>Description</th>\n",
       "      <th>Quantity</th>\n",
       "      <th>InvoiceDate</th>\n",
       "      <th>Price</th>\n",
       "      <th>Customer ID</th>\n",
       "      <th>Country</th>\n",
       "      <th>Revenue</th>\n",
       "    </tr>\n",
       "  </thead>\n",
       "  <tbody>\n",
       "    <tr>\n",
       "      <th>89</th>\n",
       "      <td>489439</td>\n",
       "      <td>POST</td>\n",
       "      <td>POSTAGE</td>\n",
       "      <td>3</td>\n",
       "      <td>2009-12-01 09:28:00</td>\n",
       "      <td>18.00</td>\n",
       "      <td>12682.0</td>\n",
       "      <td>France</td>\n",
       "      <td>54.00</td>\n",
       "    </tr>\n",
       "    <tr>\n",
       "      <th>126</th>\n",
       "      <td>489444</td>\n",
       "      <td>POST</td>\n",
       "      <td>POSTAGE</td>\n",
       "      <td>1</td>\n",
       "      <td>2009-12-01 09:55:00</td>\n",
       "      <td>141.00</td>\n",
       "      <td>12636.0</td>\n",
       "      <td>United States of America</td>\n",
       "      <td>141.00</td>\n",
       "    </tr>\n",
       "    <tr>\n",
       "      <th>173</th>\n",
       "      <td>489447</td>\n",
       "      <td>POST</td>\n",
       "      <td>POSTAGE</td>\n",
       "      <td>1</td>\n",
       "      <td>2009-12-01 10:10:00</td>\n",
       "      <td>130.00</td>\n",
       "      <td>12362.0</td>\n",
       "      <td>Belgium</td>\n",
       "      <td>130.00</td>\n",
       "    </tr>\n",
       "    <tr>\n",
       "      <th>625</th>\n",
       "      <td>489526</td>\n",
       "      <td>POST</td>\n",
       "      <td>POSTAGE</td>\n",
       "      <td>6</td>\n",
       "      <td>2009-12-01 11:50:00</td>\n",
       "      <td>18.00</td>\n",
       "      <td>12533.0</td>\n",
       "      <td>Germany</td>\n",
       "      <td>108.00</td>\n",
       "    </tr>\n",
       "    <tr>\n",
       "      <th>735</th>\n",
       "      <td>C489535</td>\n",
       "      <td>D</td>\n",
       "      <td>Discount</td>\n",
       "      <td>-1</td>\n",
       "      <td>2009-12-01 12:11:00</td>\n",
       "      <td>9.00</td>\n",
       "      <td>15299.0</td>\n",
       "      <td>United Kingdom</td>\n",
       "      <td>-9.00</td>\n",
       "    </tr>\n",
       "    <tr>\n",
       "      <th>...</th>\n",
       "      <td>...</td>\n",
       "      <td>...</td>\n",
       "      <td>...</td>\n",
       "      <td>...</td>\n",
       "      <td>...</td>\n",
       "      <td>...</td>\n",
       "      <td>...</td>\n",
       "      <td>...</td>\n",
       "      <td>...</td>\n",
       "    </tr>\n",
       "    <tr>\n",
       "      <th>1067002</th>\n",
       "      <td>C581499</td>\n",
       "      <td>M</td>\n",
       "      <td>Manual</td>\n",
       "      <td>-1</td>\n",
       "      <td>2011-12-09 10:28:00</td>\n",
       "      <td>224.69</td>\n",
       "      <td>15498.0</td>\n",
       "      <td>United Kingdom</td>\n",
       "      <td>-224.69</td>\n",
       "    </tr>\n",
       "    <tr>\n",
       "      <th>1067191</th>\n",
       "      <td>581570</td>\n",
       "      <td>POST</td>\n",
       "      <td>POSTAGE</td>\n",
       "      <td>1</td>\n",
       "      <td>2011-12-09 11:59:00</td>\n",
       "      <td>18.00</td>\n",
       "      <td>12662.0</td>\n",
       "      <td>Germany</td>\n",
       "      <td>18.00</td>\n",
       "    </tr>\n",
       "    <tr>\n",
       "      <th>1067228</th>\n",
       "      <td>581574</td>\n",
       "      <td>POST</td>\n",
       "      <td>POSTAGE</td>\n",
       "      <td>2</td>\n",
       "      <td>2011-12-09 12:09:00</td>\n",
       "      <td>18.00</td>\n",
       "      <td>12526.0</td>\n",
       "      <td>Germany</td>\n",
       "      <td>36.00</td>\n",
       "    </tr>\n",
       "    <tr>\n",
       "      <th>1067229</th>\n",
       "      <td>581578</td>\n",
       "      <td>POST</td>\n",
       "      <td>POSTAGE</td>\n",
       "      <td>3</td>\n",
       "      <td>2011-12-09 12:16:00</td>\n",
       "      <td>18.00</td>\n",
       "      <td>12713.0</td>\n",
       "      <td>Germany</td>\n",
       "      <td>54.00</td>\n",
       "    </tr>\n",
       "    <tr>\n",
       "      <th>1067370</th>\n",
       "      <td>581587</td>\n",
       "      <td>POST</td>\n",
       "      <td>POSTAGE</td>\n",
       "      <td>1</td>\n",
       "      <td>2011-12-09 12:50:00</td>\n",
       "      <td>18.00</td>\n",
       "      <td>12680.0</td>\n",
       "      <td>France</td>\n",
       "      <td>18.00</td>\n",
       "    </tr>\n",
       "  </tbody>\n",
       "</table>\n",
       "<p>6004 rows × 9 columns</p>\n",
       "</div>"
      ],
      "text/plain": [
       "         Invoice StockCode Description  Quantity         InvoiceDate   Price  \\\n",
       "89        489439      POST     POSTAGE         3 2009-12-01 09:28:00   18.00   \n",
       "126       489444      POST     POSTAGE         1 2009-12-01 09:55:00  141.00   \n",
       "173       489447      POST     POSTAGE         1 2009-12-01 10:10:00  130.00   \n",
       "625       489526      POST     POSTAGE         6 2009-12-01 11:50:00   18.00   \n",
       "735      C489535         D    Discount        -1 2009-12-01 12:11:00    9.00   \n",
       "...          ...       ...         ...       ...                 ...     ...   \n",
       "1067002  C581499         M      Manual        -1 2011-12-09 10:28:00  224.69   \n",
       "1067191   581570      POST     POSTAGE         1 2011-12-09 11:59:00   18.00   \n",
       "1067228   581574      POST     POSTAGE         2 2011-12-09 12:09:00   18.00   \n",
       "1067229   581578      POST     POSTAGE         3 2011-12-09 12:16:00   18.00   \n",
       "1067370   581587      POST     POSTAGE         1 2011-12-09 12:50:00   18.00   \n",
       "\n",
       "         Customer ID                   Country  Revenue  \n",
       "89           12682.0                    France    54.00  \n",
       "126          12636.0  United States of America   141.00  \n",
       "173          12362.0                   Belgium   130.00  \n",
       "625          12533.0                   Germany   108.00  \n",
       "735          15299.0            United Kingdom    -9.00  \n",
       "...              ...                       ...      ...  \n",
       "1067002      15498.0            United Kingdom  -224.69  \n",
       "1067191      12662.0                   Germany    18.00  \n",
       "1067228      12526.0                   Germany    36.00  \n",
       "1067229      12713.0                   Germany    54.00  \n",
       "1067370      12680.0                    France    18.00  \n",
       "\n",
       "[6004 rows x 9 columns]"
      ]
     },
     "execution_count": 4,
     "metadata": {},
     "output_type": "execute_result"
    }
   ],
   "source": [
    "shipping_df = df.copy()\n",
    "shipping_df[\"StockCode\"] = df[\"StockCode\"].str.extract('(^\\D+)', expand = False)\n",
    "\n",
    "shipping_df.dropna(subset = [\"StockCode\"], inplace = True)  #Dropping rows without shipping information \n",
    "shipping_df.to_csv('Data/cleaned_shipping_data', index = False) #Saving this dataframe for future analysis\n",
    "\n",
    "display(shipping_df.head())\n",
    "display(shipping_df.StockCode.value_counts())"
   ]
  },
  {
   "cell_type": "code",
   "execution_count": 6,
   "metadata": {},
   "outputs": [],
   "source": [
    "df.drop(shipping_df.index, inplace = True, axis = 0)                  #Dropping the shipping data from the main dataset"
   ]
  },
  {
   "cell_type": "markdown",
   "metadata": {},
   "source": [
    "### Refunds-related Data\n",
    "\n",
    "The following extracts refunds-related data from the main dataset for ease of sales analysis in other workbooks."
   ]
  },
  {
   "cell_type": "code",
   "execution_count": 7,
   "metadata": {},
   "outputs": [],
   "source": [
    "df[\"refund\"] = df['Invoice'].str.extract(\"(^\\D+[0-9]+)\")      #Identifying the rows which are returns by the invoice number\n",
    "drop_rows(df.loc[df.refund.notnull()])                        #Dropping these rows from the main dataset\n",
    "df.Invoice = df.Invoice.astype(int)                           #Checking they were all dropped by turing the Invoice feature into an int. \n",
    "\n",
    "df['StockCode'].replace('\\D+', '', regex=True, inplace = True)   #Removing any trailing letters from the Stockcode of each product\n",
    "drop_rows(df[df[\"Quantity\"]<=0])                               #Dropping rows where quantity is less than 0.\n",
    "\n",
    "df.to_csv(\"Data/cleaned_sales_data\", index = False)            #Fanally, saving a copy of the cleaned dataset. "
   ]
  }
 ],
 "metadata": {
  "kernelspec": {
   "display_name": "Python 3",
   "language": "python",
   "name": "python3"
  },
  "language_info": {
   "codemirror_mode": {
    "name": "ipython",
    "version": 3
   },
   "file_extension": ".py",
   "mimetype": "text/x-python",
   "name": "python",
   "nbconvert_exporter": "python",
   "pygments_lexer": "ipython3",
   "version": "3.8.5"
  }
 },
 "nbformat": 4,
 "nbformat_minor": 4
}
